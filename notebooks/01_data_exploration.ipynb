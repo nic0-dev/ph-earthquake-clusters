{
 "cells": [
  {
   "cell_type": "code",
   "execution_count": 1,
   "metadata": {},
   "outputs": [],
   "source": [
    "# Import Libraries\n",
    "import pandas as pd\n",
    "import numpy as np\n",
    "import matplotlib.pyplot as plt\n",
    "import seaborn as sns\n",
    "\n",
    "# For inline plots\n",
    "%matplotlib inline"
   ]
  },
  {
   "cell_type": "code",
   "execution_count": 2,
   "metadata": {},
   "outputs": [
    {
     "data": {
      "text/html": [
       "<div>\n",
       "<style scoped>\n",
       "    .dataframe tbody tr th:only-of-type {\n",
       "        vertical-align: middle;\n",
       "    }\n",
       "\n",
       "    .dataframe tbody tr th {\n",
       "        vertical-align: top;\n",
       "    }\n",
       "\n",
       "    .dataframe thead th {\n",
       "        text-align: right;\n",
       "    }\n",
       "</style>\n",
       "<table border=\"1\" class=\"dataframe\">\n",
       "  <thead>\n",
       "    <tr style=\"text-align: right;\">\n",
       "      <th></th>\n",
       "      <th>Date_Time_PH</th>\n",
       "      <th>Latitude</th>\n",
       "      <th>Longitude</th>\n",
       "      <th>Depth_In_Km</th>\n",
       "      <th>Magnitude</th>\n",
       "      <th>Location</th>\n",
       "    </tr>\n",
       "  </thead>\n",
       "  <tbody>\n",
       "    <tr>\n",
       "      <th>0</th>\n",
       "      <td>2016-01-01 00:40:00</td>\n",
       "      <td>17.34</td>\n",
       "      <td>120.30</td>\n",
       "      <td>023</td>\n",
       "      <td>3.0</td>\n",
       "      <td>015 km N 87° W of San Esteban (Ilocos Sur)</td>\n",
       "    </tr>\n",
       "    <tr>\n",
       "      <th>1</th>\n",
       "      <td>2016-01-01 05:06:00</td>\n",
       "      <td>14.65</td>\n",
       "      <td>123.12</td>\n",
       "      <td>017</td>\n",
       "      <td>3.3</td>\n",
       "      <td>054 km N 42° E of Paracale (Camarines Norte)</td>\n",
       "    </tr>\n",
       "    <tr>\n",
       "      <th>2</th>\n",
       "      <td>2016-01-01 13:24:00</td>\n",
       "      <td>09.76</td>\n",
       "      <td>125.46</td>\n",
       "      <td>012</td>\n",
       "      <td>2.4</td>\n",
       "      <td>005 km S 42° W of Surigao City</td>\n",
       "    </tr>\n",
       "    <tr>\n",
       "      <th>3</th>\n",
       "      <td>2016-01-01 15:01:00</td>\n",
       "      <td>17.30</td>\n",
       "      <td>120.27</td>\n",
       "      <td>026</td>\n",
       "      <td>2.9</td>\n",
       "      <td>018 km S 81° W of San Esteban (Ilocos Sur)</td>\n",
       "    </tr>\n",
       "    <tr>\n",
       "      <th>4</th>\n",
       "      <td>2016-01-01 20:27:00</td>\n",
       "      <td>08.89</td>\n",
       "      <td>126.28</td>\n",
       "      <td>024</td>\n",
       "      <td>3.0</td>\n",
       "      <td>004 km S 44° W of Cagwait (Surigao del Sur)</td>\n",
       "    </tr>\n",
       "  </tbody>\n",
       "</table>\n",
       "</div>"
      ],
      "text/plain": [
       "          Date_Time_PH Latitude Longitude Depth_In_Km  Magnitude  \\\n",
       "0  2016-01-01 00:40:00    17.34    120.30         023        3.0   \n",
       "1  2016-01-01 05:06:00    14.65    123.12         017        3.3   \n",
       "2  2016-01-01 13:24:00    09.76    125.46         012        2.4   \n",
       "3  2016-01-01 15:01:00    17.30    120.27         026        2.9   \n",
       "4  2016-01-01 20:27:00    08.89    126.28         024        3.0   \n",
       "\n",
       "                                       Location  \n",
       "0    015 km N 87° W of San Esteban (Ilocos Sur)  \n",
       "1  054 km N 42° E of Paracale (Camarines Norte)  \n",
       "2                005 km S 42° W of Surigao City  \n",
       "3    018 km S 81° W of San Esteban (Ilocos Sur)  \n",
       "4   004 km S 44° W of Cagwait (Surigao del Sur)  "
      ]
     },
     "execution_count": 2,
     "metadata": {},
     "output_type": "execute_result"
    }
   ],
   "source": [
    "# Load Data\n",
    "\n",
    "df = pd.read_csv('../data/phivolcs_earthquake_data.csv')\n",
    "df.head()"
   ]
  },
  {
   "cell_type": "code",
   "execution_count": null,
   "metadata": {},
   "outputs": [],
   "source": [
    "# Data Checks\n",
    "df.info()\n",
    "df.describe()"
   ]
  }
 ],
 "metadata": {
  "kernelspec": {
   "display_name": "env",
   "language": "python",
   "name": "python3"
  },
  "language_info": {
   "codemirror_mode": {
    "name": "ipython",
    "version": 3
   },
   "file_extension": ".py",
   "mimetype": "text/x-python",
   "name": "python",
   "nbconvert_exporter": "python",
   "pygments_lexer": "ipython3",
   "version": "3.13.0"
  }
 },
 "nbformat": 4,
 "nbformat_minor": 2
}
